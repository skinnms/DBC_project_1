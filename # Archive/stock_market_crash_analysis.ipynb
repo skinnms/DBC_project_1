{
 "cells": [
  {
   "cell_type": "code",
   "execution_count": 2,
   "metadata": {},
   "outputs": [],
   "source": [
    "# import dependencies\n",
    "import pandas as pd\n",
    "import requests\n",
    "import numpy as np\n",
    "import matplotlib\n",
    "from keys import api_key\n",
    "import json\n",
    "from datetime import datetime # dt_object = datetime.fromtimestamp(timestamp)"
   ]
  },
  {
   "cell_type": "code",
   "execution_count": 4,
   "metadata": {},
   "outputs": [
    {
     "name": "stderr",
     "output_type": "stream",
     "text": [
      "C:\\Users\\armck\\AppData\\Local\\Continuum\\anaconda3\\envs\\PythonData\\lib\\site-packages\\pandas\\core\\frame.py:7138: FutureWarning: Sorting because non-concatenation axis is not aligned. A future version\n",
      "of pandas will change to not sort by default.\n",
      "\n",
      "To accept the future behavior, pass 'sort=False'.\n",
      "\n",
      "To retain the current behavior and silence the warning, pass 'sort=True'.\n",
      "\n",
      "  sort=sort,\n"
     ]
    },
    {
     "data": {
      "text/html": [
       "<div>\n",
       "<style scoped>\n",
       "    .dataframe tbody tr th:only-of-type {\n",
       "        vertical-align: middle;\n",
       "    }\n",
       "\n",
       "    .dataframe tbody tr th {\n",
       "        vertical-align: top;\n",
       "    }\n",
       "\n",
       "    .dataframe thead th {\n",
       "        text-align: right;\n",
       "    }\n",
       "</style>\n",
       "<table border=\"1\" class=\"dataframe\">\n",
       "  <thead>\n",
       "    <tr style=\"text-align: right;\">\n",
       "      <th></th>\n",
       "      <th>company</th>\n",
       "      <th>occurance</th>\n",
       "      <th>profit ($ millions)</th>\n",
       "      <th>rank</th>\n",
       "      <th>revenue ($ millions)</th>\n",
       "      <th>year</th>\n",
       "    </tr>\n",
       "  </thead>\n",
       "  <tbody>\n",
       "    <tr>\n",
       "      <th>0</th>\n",
       "      <td>Exxon Mobil</td>\n",
       "      <td>31</td>\n",
       "      <td>45220.0</td>\n",
       "      <td>4</td>\n",
       "      <td>452926.0</td>\n",
       "      <td>2019</td>\n",
       "    </tr>\n",
       "    <tr>\n",
       "      <th>1</th>\n",
       "      <td>Berkshire Hathaway</td>\n",
       "      <td>31</td>\n",
       "      <td>44940.0</td>\n",
       "      <td>295</td>\n",
       "      <td>247837.0</td>\n",
       "      <td>2019</td>\n",
       "    </tr>\n",
       "  </tbody>\n",
       "</table>\n",
       "</div>"
      ],
      "text/plain": [
       "              company  occurance  profit ($ millions)  rank  \\\n",
       "0         Exxon Mobil         31              45220.0     4   \n",
       "1  Berkshire Hathaway         31              44940.0   295   \n",
       "\n",
       "   revenue ($ millions)  year  \n",
       "0              452926.0  2019  \n",
       "1              247837.0  2019  "
      ]
     },
     "execution_count": 4,
     "metadata": {},
     "output_type": "execute_result"
    }
   ],
   "source": [
    "# bring in stock List and clean it up\n",
    "start_year = 1989\n",
    "end_year = 2020\n",
    "year_list = list(np.arange(start_year, end_year, 1))\n",
    "\n",
    "f500_df_prelim = pd.DataFrame(columns=['rank', 'company', 'year'])\n",
    "\n",
    "for year in year_list:\n",
    "    \n",
    "    path = f'Resources/csv/fortune500-{year}.csv'\n",
    "    \n",
    "    f500_df = pd.read_csv(path)\n",
    "    f500_df['year'] = year\n",
    "    \n",
    "    f500_df_prelim = f500_df_prelim.append(f500_df)\n",
    "    \n",
    "    f500_df_prelim.reset_index()\n",
    "    \n",
    "    \n",
    "f500_df = f500_df_prelim\n",
    "\n",
    "listoflists = pd.DataFrame(f500_df['company'].value_counts()).reset_index().rename(columns={'index':'company', 'company':'occurance'})\n",
    "f500_df_sort = listoflists.merge(f500_df, on='company', how='left')\n",
    "f500_df_sort = f500_df_sort.loc[f500_df_sort['profit ($ millions)'] != 'N.A.']\n",
    "f500_df_sort['profit ($ millions)'] = f500_df_sort['profit ($ millions)'].astype('float64')\n",
    "df2 = f500_df_sort.groupby('company').max().sort_values('profit ($ millions)', ascending=False)\n",
    "df2 = df2.loc[df2['occurance'] >= 25]\n",
    "df2 = df2.reset_index()\n",
    "df2.head(2)"
   ]
  },
  {
   "cell_type": "code",
   "execution_count": 5,
   "metadata": {},
   "outputs": [
    {
     "data": {
      "text/html": [
       "<div>\n",
       "<style scoped>\n",
       "    .dataframe tbody tr th:only-of-type {\n",
       "        vertical-align: middle;\n",
       "    }\n",
       "\n",
       "    .dataframe tbody tr th {\n",
       "        vertical-align: top;\n",
       "    }\n",
       "\n",
       "    .dataframe thead th {\n",
       "        text-align: right;\n",
       "    }\n",
       "</style>\n",
       "<table border=\"1\" class=\"dataframe\">\n",
       "  <thead>\n",
       "    <tr style=\"text-align: right;\">\n",
       "      <th></th>\n",
       "      <th>company</th>\n",
       "      <th>Name</th>\n",
       "      <th>Ticker</th>\n",
       "    </tr>\n",
       "  </thead>\n",
       "  <tbody>\n",
       "    <tr>\n",
       "      <th>0</th>\n",
       "      <td>Dean Foods</td>\n",
       "      <td>Dean Foods Company</td>\n",
       "      <td>DF</td>\n",
       "    </tr>\n",
       "    <tr>\n",
       "      <th>1</th>\n",
       "      <td>OfficeMax</td>\n",
       "      <td>Office Depot, Inc.</td>\n",
       "      <td>ODP</td>\n",
       "    </tr>\n",
       "  </tbody>\n",
       "</table>\n",
       "</div>"
      ],
      "text/plain": [
       "      company                Name Ticker\n",
       "0  Dean Foods  Dean Foods Company     DF\n",
       "1   OfficeMax  Office Depot, Inc.    ODP"
      ]
     },
     "execution_count": 5,
     "metadata": {},
     "output_type": "execute_result"
    }
   ],
   "source": [
    "df3 = pd.read_csv('stock_ticker_info.csv',  encoding=\"ISO-8859-1\")\n",
    "df3 = df3.rename(columns={'Company Name2': 'company'})\n",
    "df3.head(2)"
   ]
  },
  {
   "cell_type": "code",
   "execution_count": 6,
   "metadata": {},
   "outputs": [],
   "source": [
    "df2 = df2.merge(df3,on='company', how='left')"
   ]
  },
  {
   "cell_type": "code",
   "execution_count": 7,
   "metadata": {},
   "outputs": [
    {
     "data": {
      "text/html": [
       "<div>\n",
       "<style scoped>\n",
       "    .dataframe tbody tr th:only-of-type {\n",
       "        vertical-align: middle;\n",
       "    }\n",
       "\n",
       "    .dataframe tbody tr th {\n",
       "        vertical-align: top;\n",
       "    }\n",
       "\n",
       "    .dataframe thead th {\n",
       "        text-align: right;\n",
       "    }\n",
       "</style>\n",
       "<table border=\"1\" class=\"dataframe\">\n",
       "  <thead>\n",
       "    <tr style=\"text-align: right;\">\n",
       "      <th></th>\n",
       "      <th>Name</th>\n",
       "      <th>Ticker</th>\n",
       "    </tr>\n",
       "  </thead>\n",
       "  <tbody>\n",
       "    <tr>\n",
       "      <th>0</th>\n",
       "      <td>Exxon Mobil Corporation</td>\n",
       "      <td>XOM</td>\n",
       "    </tr>\n",
       "    <tr>\n",
       "      <th>1</th>\n",
       "      <td>Berkshire Hathaway Inc.</td>\n",
       "      <td>BRK-A</td>\n",
       "    </tr>\n",
       "  </tbody>\n",
       "</table>\n",
       "</div>"
      ],
      "text/plain": [
       "                      Name Ticker\n",
       "0  Exxon Mobil Corporation    XOM\n",
       "1  Berkshire Hathaway Inc.  BRK-A"
      ]
     },
     "execution_count": 7,
     "metadata": {},
     "output_type": "execute_result"
    }
   ],
   "source": [
    "df2 = df2[['Name', 'Ticker']]\n",
    "df2.head(2)"
   ]
  },
  {
   "cell_type": "code",
   "execution_count": 8,
   "metadata": {},
   "outputs": [],
   "source": [
    "df2.to_csv('Fortune_list.csv')"
   ]
  },
  {
   "cell_type": "code",
   "execution_count": 11,
   "metadata": {},
   "outputs": [
    {
     "ename": "TypeError",
     "evalue": "string indices must be integers",
     "output_type": "error",
     "traceback": [
      "\u001b[1;31m---------------------------------------------------------------------------\u001b[0m",
      "\u001b[1;31mTypeError\u001b[0m                                 Traceback (most recent call last)",
      "\u001b[1;32m<ipython-input-11-78adb5b9f635>\u001b[0m in \u001b[0;36m<module>\u001b[1;34m\u001b[0m\n\u001b[0;32m     24\u001b[0m     \u001b[1;32mfor\u001b[0m \u001b[0mindex\u001b[0m\u001b[1;33m,\u001b[0m \u001b[0mresponse\u001b[0m \u001b[1;32min\u001b[0m \u001b[0menumerate\u001b[0m\u001b[1;33m(\u001b[0m\u001b[0mresponses\u001b[0m\u001b[1;33m)\u001b[0m\u001b[1;33m:\u001b[0m\u001b[1;33m\u001b[0m\u001b[1;33m\u001b[0m\u001b[0m\n\u001b[0;32m     25\u001b[0m \u001b[1;33m\u001b[0m\u001b[0m\n\u001b[1;32m---> 26\u001b[1;33m         \u001b[0mdate\u001b[0m \u001b[1;33m=\u001b[0m \u001b[0mresponse\u001b[0m\u001b[1;33m[\u001b[0m\u001b[1;34m\"prices\"\u001b[0m\u001b[1;33m]\u001b[0m\u001b[1;33m[\u001b[0m\u001b[0mindex\u001b[0m\u001b[1;33m]\u001b[0m\u001b[1;33m[\u001b[0m\u001b[1;34m\"date\"\u001b[0m\u001b[1;33m]\u001b[0m\u001b[1;33m\u001b[0m\u001b[1;33m\u001b[0m\u001b[0m\n\u001b[0m\u001b[0;32m     27\u001b[0m         \u001b[0mclose\u001b[0m \u001b[1;33m=\u001b[0m \u001b[0mresponse\u001b[0m\u001b[1;33m[\u001b[0m\u001b[1;34m\"prices\"\u001b[0m\u001b[1;33m]\u001b[0m\u001b[1;33m[\u001b[0m\u001b[0mindex\u001b[0m\u001b[1;33m]\u001b[0m\u001b[1;33m[\u001b[0m\u001b[1;34m\"close\"\u001b[0m\u001b[1;33m]\u001b[0m\u001b[1;33m\u001b[0m\u001b[1;33m\u001b[0m\u001b[0m\n\u001b[0;32m     28\u001b[0m         \u001b[0mvolume\u001b[0m \u001b[1;33m=\u001b[0m \u001b[0mresponse\u001b[0m\u001b[1;33m[\u001b[0m\u001b[1;34m\"prices\"\u001b[0m\u001b[1;33m]\u001b[0m\u001b[1;33m[\u001b[0m\u001b[0mindex\u001b[0m\u001b[1;33m]\u001b[0m\u001b[1;33m[\u001b[0m\u001b[1;34m\"volume\"\u001b[0m\u001b[1;33m]\u001b[0m\u001b[1;33m\u001b[0m\u001b[1;33m\u001b[0m\u001b[0m\n",
      "\u001b[1;31mTypeError\u001b[0m: string indices must be integers"
     ]
    }
   ],
   "source": [
    "# create list from df\n",
    "symbols = df2['Ticker'].tolist()\n",
    "\n",
    "response_df = pd.DataFrame(columns=['Symbol', 'Date', 'Close', 'Volume'])\n",
    "\n",
    "# containters\n",
    "# date = []\n",
    "# close = []\n",
    "# volume = []\n",
    "\n",
    "# loop through df and run search for each stock symbol\n",
    "for symbol in symbols:\n",
    "    base_url = \"https://apidojo-yahoo-finance-v1.p.rapidapi.com/stock/v2/get-historical-data\"\n",
    "    \n",
    "    headers = {\n",
    "    'x-rapidapi-host': \"apidojo-yahoo-finance-v1.p.rapidapi.com\",\n",
    "    'x-rapidapi-key': api_key\n",
    "    }\n",
    "    \n",
    "    params = {\"frequency\":\"1wk\",\"filter\":\"history\",\"period1\":\"599637600\",\"period2\":\"1577858399\",\"symbol\":symbol}\n",
    "    \n",
    "    responses = requests.get(base_url, headers=headers, params=params).json()\n",
    "    \n",
    "    for index, response in enumerate(responses):\n",
    "        \n",
    "        date = response[\"prices\"][index][\"date\"]\n",
    "        close = response[\"prices\"][index][\"close\"]\n",
    "        volume = response[\"prices\"][index][\"volume\"]\n",
    "        \n",
    "        df_ticker = pd.DataFrame([symbol, date, close, volume] ,columns = ['Symbol', 'Date', 'Close', 'Volume'])\n",
    "        response_df.append(df_ticker)\n",
    "#         response_df.append(symbol)\n",
    "#         response_df['Date'] = response_df.append(response[\"prices\"][X][\"date\"])\n",
    "#         response_df['Close'] = response_df.append(response[\"prices\"][X][\"close\"])\n",
    "#         response_df['Volume'] = response_df.append(response[\"prices\"][X][\"volume\"])\n",
    "        \n",
    "response_df.head()"
   ]
  },
  {
   "cell_type": "code",
   "execution_count": 13,
   "metadata": {},
   "outputs": [
    {
     "data": {
      "text/plain": [
       "{'message': 'You are not subscribed to this API.'}"
      ]
     },
     "execution_count": 13,
     "metadata": {},
     "output_type": "execute_result"
    }
   ],
   "source": [
    "base_url = \"https://apidojo-yahoo-finance-v1.p.rapidapi.com/stock/v2/get-historical-data\"\n",
    "\n",
    "headers = {\n",
    "'x-rapidapi-host': \"apidojo-yahoo-finance-v1.p.rapidapi.com\",\n",
    "'x-rapidapi-key': api_key\n",
    "}\n",
    "\n",
    "params = {\"frequency\":\"1wk\",\"filter\":\"history\",\"period1\":\"599637600\",\"period2\":\"1577858399\",\"symbol\":symbol}\n",
    "\n",
    "responses = requests.get(base_url, headers=headers, params=params).json()\n",
    "responses"
   ]
  },
  {
   "cell_type": "code",
   "execution_count": 54,
   "metadata": {},
   "outputs": [
    {
     "data": {
      "text/html": [
       "<div>\n",
       "<style scoped>\n",
       "    .dataframe tbody tr th:only-of-type {\n",
       "        vertical-align: middle;\n",
       "    }\n",
       "\n",
       "    .dataframe tbody tr th {\n",
       "        vertical-align: top;\n",
       "    }\n",
       "\n",
       "    .dataframe thead th {\n",
       "        text-align: right;\n",
       "    }\n",
       "</style>\n",
       "<table border=\"1\" class=\"dataframe\">\n",
       "  <thead>\n",
       "    <tr style=\"text-align: right;\">\n",
       "      <th></th>\n",
       "      <th>Symbol</th>\n",
       "      <th>Date</th>\n",
       "      <th>Close</th>\n",
       "      <th>Volume</th>\n",
       "    </tr>\n",
       "  </thead>\n",
       "  <tbody>\n",
       "  </tbody>\n",
       "</table>\n",
       "</div>"
      ],
      "text/plain": [
       "Empty DataFrame\n",
       "Columns: [Symbol, Date, Close, Volume]\n",
       "Index: []"
      ]
     },
     "execution_count": 54,
     "metadata": {},
     "output_type": "execute_result"
    }
   ],
   "source": []
  },
  {
   "cell_type": "code",
   "execution_count": null,
   "metadata": {},
   "outputs": [],
   "source": []
  }
 ],
 "metadata": {
  "kernelspec": {
   "display_name": "Python 3",
   "language": "python",
   "name": "python3"
  },
  "language_info": {
   "codemirror_mode": {
    "name": "ipython",
    "version": 3
   },
   "file_extension": ".py",
   "mimetype": "text/x-python",
   "name": "python",
   "nbconvert_exporter": "python",
   "pygments_lexer": "ipython3",
   "version": "3.6.9"
  }
 },
 "nbformat": 4,
 "nbformat_minor": 2
}

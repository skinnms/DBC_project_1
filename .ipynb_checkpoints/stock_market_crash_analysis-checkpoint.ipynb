{
 "cells": [
  {
   "cell_type": "code",
   "execution_count": 2,
   "metadata": {},
   "outputs": [],
   "source": [
    "# import dependencies\n",
    "import pandas as pd\n",
    "import requests\n",
    "import matplotlib\n",
    "from keys import api_key\n",
    "import json\n",
    "from datetime import datetime # dt_object = datetime.fromtimestamp(timestamp)"
   ]
  },
  {
   "cell_type": "code",
   "execution_count": 5,
   "metadata": {},
   "outputs": [
    {
     "data": {
      "text/html": [
       "<div>\n",
       "<style scoped>\n",
       "    .dataframe tbody tr th:only-of-type {\n",
       "        vertical-align: middle;\n",
       "    }\n",
       "\n",
       "    .dataframe tbody tr th {\n",
       "        vertical-align: top;\n",
       "    }\n",
       "\n",
       "    .dataframe thead th {\n",
       "        text-align: right;\n",
       "    }\n",
       "</style>\n",
       "<table border=\"1\" class=\"dataframe\">\n",
       "  <thead>\n",
       "    <tr style=\"text-align: right;\">\n",
       "      <th></th>\n",
       "      <th>Symbol</th>\n",
       "      <th>Company Name</th>\n",
       "      <th>Sector</th>\n",
       "      <th>Industry</th>\n",
       "      <th>Date</th>\n",
       "      <th>Close</th>\n",
       "      <th>Volume</th>\n",
       "    </tr>\n",
       "  </thead>\n",
       "  <tbody>\n",
       "    <tr>\n",
       "      <th>0</th>\n",
       "      <td>MMM</td>\n",
       "      <td>3M Company</td>\n",
       "      <td>Industrials</td>\n",
       "      <td>Industrial Conglomerates</td>\n",
       "      <td></td>\n",
       "      <td></td>\n",
       "      <td></td>\n",
       "    </tr>\n",
       "    <tr>\n",
       "      <th>1</th>\n",
       "      <td>ABT</td>\n",
       "      <td>Abbott Laboratories</td>\n",
       "      <td>Health Care</td>\n",
       "      <td>Health Care Equipment</td>\n",
       "      <td></td>\n",
       "      <td></td>\n",
       "      <td></td>\n",
       "    </tr>\n",
       "  </tbody>\n",
       "</table>\n",
       "</div>"
      ],
      "text/plain": [
       "  Symbol         Company Name       Sector                  Industry Date  \\\n",
       "0    MMM           3M Company  Industrials  Industrial Conglomerates        \n",
       "1    ABT  Abbott Laboratories  Health Care     Health Care Equipment        \n",
       "\n",
       "  Close Volume  \n",
       "0               \n",
       "1               "
      ]
     },
     "execution_count": 5,
     "metadata": {},
     "output_type": "execute_result"
    }
   ],
   "source": [
    "# bring in stock List and clean it up\n",
    "csv = \"sp_500_list.csv\"\n",
    "sp_df = pd.read_csv(csv, encoding=\"ISO-8859-1\")\n",
    "sp_df1 = sp_df.drop(['SEC filings', 'Headquarters Location', 'CIK', 'Founded', 'Date first added'], axis=1)\n",
    "sp_df1 = sp_df1.rename(columns={\"Security\": \"Company Name\", \"GICS Sector\": \"Sector\", \"GICS Sub Industry\":\"Industry\"})\n",
    "sp_df1[\"Date\"] = \"\"\n",
    "sp_df1[\"Close\"] = \"\"\n",
    "sp_df1[\"Volume\"] = \"\"\n",
    "sp_df1.head(2)"
   ]
  },
  {
   "cell_type": "code",
   "execution_count": null,
   "metadata": {},
   "outputs": [],
   "source": [
    "# create list from df\n",
    "symbols = sp_df1['Symbol'].tolist()\n",
    "\n",
    "# containters\n",
    "date = []\n",
    "close = []\n",
    "volume = []\n",
    "\n",
    "# loop through df and run search for each stock symbol\n",
    "for symbol in symbols:\n",
    "    base_url = \"https://apidojo-yahoo-finance-v1.p.rapidapi.com/stock/v2/get-historical-data\"\n",
    "    \n",
    "    headers = {\n",
    "    'x-rapidapi-host': \"apidojo-yahoo-finance-v1.p.rapidapi.com\",\n",
    "    'x-rapidapi-key': api_key\n",
    "    }\n",
    "    \n",
    "    params = {\"frequency\":\"1wk\",\"filter\":\"history\",\"period1\":\"599637600\",\"period2\":\"1577858399\",\"symbol\":symbols}\n",
    "    \n",
    "    response = requests.get(base_url, headers=headers, params=params).json()"
   ]
  }
 ],
 "metadata": {
  "kernelspec": {
   "display_name": "Python 3",
   "language": "python",
   "name": "python3"
  },
  "language_info": {
   "codemirror_mode": {
    "name": "ipython",
    "version": 3
   },
   "file_extension": ".py",
   "mimetype": "text/x-python",
   "name": "python",
   "nbconvert_exporter": "python",
   "pygments_lexer": "ipython3",
   "version": "3.6.9"
  }
 },
 "nbformat": 4,
 "nbformat_minor": 2
}
